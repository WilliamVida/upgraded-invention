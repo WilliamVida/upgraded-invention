{
 "cells": [
  {
   "cell_type": "code",
   "execution_count": 160,
   "metadata": {},
   "outputs": [],
   "source": [
    "import pandas as pd\n",
    "import plotly.express as px\n",
    "import numpy as np\n",
    "import os"
   ]
  },
  {
   "cell_type": "code",
   "execution_count": 161,
   "metadata": {},
   "outputs": [
    {
     "data": {
      "application/vnd.plotly.v1+json": {
       "config": {
        "plotlyServerURL": "https://plot.ly"
       },
       "data": [
        {
         "hovertemplate": "<b>%{text}</b><br>Year: %{x}<br>Abortion rate: %{y}",
         "legendgroup": "AK",
         "line": {
          "color": "#636efa",
          "dash": "solid"
         },
         "marker": {
          "line": {
           "color": "DarkSlateGrey",
           "width": 1
          },
          "size": 8,
          "symbol": "circle"
         },
         "mode": "markers+lines+text",
         "name": "AK",
         "orientation": "v",
         "showlegend": true,
         "text": [
          "AK",
          "AK",
          "AK",
          "AK",
          "AK",
          "AK",
          "AK",
          "AK",
          "AK",
          "AK",
          "AK",
          "AK",
          "AK",
          "AK",
          "AK",
          "AK",
          "AK",
          "AK",
          "AK",
          "AK",
          "AK",
          "AK",
          "AK",
          "AK",
          "AK",
          "AK",
          "AK",
          "AK",
          "AK",
          "AK",
          "AK",
          "AK",
          "AK",
          "AK",
          "AK",
          "AK",
          "AK",
          "AK",
          "AK",
          "AK",
          "AK",
          "AK",
          "AK",
          "AK",
          "AK",
          "AK",
          "AK",
          "AK",
          "AK",
          "AK",
          "AK",
          "AK"
         ],
         "textposition": "middle right",
         "type": "scatter",
         "x": [
          1970,
          1971,
          1972,
          1973,
          1974,
          1975,
          1976,
          1977,
          1978,
          1979,
          1980,
          1981,
          1982,
          1983,
          1984,
          1985,
          1986,
          1987,
          1988,
          1989,
          1990,
          1991,
          1992,
          1993,
          1994,
          1995,
          1996,
          1997,
          1998,
          1999,
          2000,
          2001,
          2002,
          2003,
          2004,
          2005,
          2006,
          2007,
          2008,
          2009,
          2010,
          2011,
          2012,
          2013,
          2014,
          2015,
          2016,
          2017,
          2018,
          2019,
          2020,
          2021
         ],
         "xaxis": "x",
         "y": [
          6.12,
          16.14,
          15.56,
          14.78,
          13.9,
          17.59,
          16.71,
          25.91,
          24.96,
          17.97,
          17.8,
          17.14,
          16.32,
          19.82,
          23.6,
          25.03,
          21.59,
          18.79,
          17.49,
          17.41,
          17.52,
          17.23,
          16.73,
          15.79,
          15.03,
          14.19,
          15.37,
          14.84,
          14.2,
          13.67,
          11.76,
          12.3,
          12.81,
          13.3,
          13.71,
          13.82,
          13.51,
          12.14,
          12.5,
          13.6,
          13.41,
          12.77,
          12.53,
          10.85,
          10.52,
          9.27,
          8.73,
          8.74,
          9.2,
          9.32,
          8.79,
          8.96
         ],
         "yaxis": "y"
        },
        {
         "hovertemplate": "<b>%{text}</b><br>Year: %{x}<br>Abortion rate: %{y}",
         "legendgroup": "AL",
         "line": {
          "color": "#EF553B",
          "dash": "solid"
         },
         "marker": {
          "line": {
           "color": "DarkSlateGrey",
           "width": 1
          },
          "size": 8,
          "symbol": "circle"
         },
         "mode": "markers+lines+text",
         "name": "AL",
         "orientation": "v",
         "showlegend": true,
         "text": [
          "AL",
          "AL",
          "AL",
          "AL",
          "AL",
          "AL",
          "AL",
          "AL",
          "AL",
          "AL",
          "AL",
          "AL",
          "AL",
          "AL",
          "AL",
          "AL",
          "AL",
          "AL",
          "AL",
          "AL",
          "AL",
          "AL",
          "AL",
          "AL",
          "AL",
          "AL",
          "AL",
          "AL",
          "AL",
          "AL",
          "AL",
          "AL",
          "AL",
          "AL",
          "AL",
          "AL",
          "AL",
          "AL",
          "AL",
          "AL",
          "AL",
          "AL",
          "AL",
          "AL",
          "AL",
          "AL",
          "AL",
          "AL",
          "AL",
          "AL"
         ],
         "textposition": "middle right",
         "type": "scatter",
         "x": [
          1972,
          1973,
          1974,
          1975,
          1976,
          1977,
          1978,
          1979,
          1980,
          1981,
          1982,
          1983,
          1984,
          1985,
          1986,
          1987,
          1988,
          1989,
          1990,
          1991,
          1992,
          1993,
          1994,
          1995,
          1996,
          1997,
          1998,
          1999,
          2000,
          2001,
          2002,
          2003,
          2004,
          2005,
          2006,
          2007,
          2008,
          2009,
          2010,
          2011,
          2012,
          2013,
          2014,
          2015,
          2016,
          2017,
          2018,
          2019,
          2020,
          2021
         ],
         "xaxis": "x",
         "y": [
          1.53,
          6,
          6.42,
          7.42,
          10,
          13.68,
          17.3,
          19.8,
          23.07,
          21.81,
          21.79,
          21.33,
          20.78,
          20.77,
          20.74,
          20.72,
          19.28,
          19.05,
          18.6,
          18.12,
          18.1,
          16.97,
          15.91,
          14.91,
          15.44,
          15.16,
          14.81,
          14.57,
          14.26,
          14.06,
          12.9,
          11.54,
          11.97,
          11.92,
          12.26,
          11.76,
          11.73,
          11.31,
          10.69,
          9.98,
          9.47,
          8.84,
          8.43,
          6.17,
          6.98,
          6.44,
          6.84,
          6.33,
          6.02,
          6.05
         ],
         "yaxis": "y"
        },
        {
         "hovertemplate": "<b>%{text}</b><br>Year: %{x}<br>Abortion rate: %{y}",
         "legendgroup": "AR",
         "line": {
          "color": "#00cc96",
          "dash": "solid"
         },
         "marker": {
          "line": {
           "color": "DarkSlateGrey",
           "width": 1
          },
          "size": 8,
          "symbol": "circle"
         },
         "mode": "markers+lines+text",
         "name": "AR",
         "orientation": "v",
         "showlegend": true,
         "text": [
          "AR",
          "AR",
          "AR",
          "AR",
          "AR",
          "AR",
          "AR",
          "AR",
          "AR",
          "AR",
          "AR",
          "AR",
          "AR",
          "AR",
          "AR",
          "AR",
          "AR",
          "AR",
          "AR",
          "AR",
          "AR",
          "AR",
          "AR",
          "AR",
          "AR",
          "AR",
          "AR",
          "AR",
          "AR",
          "AR",
          "AR",
          "AR",
          "AR",
          "AR",
          "AR",
          "AR",
          "AR",
          "AR",
          "AR",
          "AR",
          "AR",
          "AR",
          "AR",
          "AR",
          "AR",
          "AR",
          "AR",
          "AR",
          "AR",
          "AR",
          "AR"
         ],
         "textposition": "middle right",
         "type": "scatter",
         "x": [
          1971,
          1972,
          1973,
          1974,
          1975,
          1976,
          1977,
          1978,
          1979,
          1980,
          1981,
          1982,
          1983,
          1984,
          1985,
          1986,
          1987,
          1988,
          1989,
          1990,
          1991,
          1992,
          1993,
          1994,
          1995,
          1996,
          1997,
          1998,
          1999,
          2000,
          2001,
          2002,
          2003,
          2004,
          2005,
          2006,
          2007,
          2008,
          2009,
          2010,
          2011,
          2012,
          2013,
          2014,
          2015,
          2016,
          2017,
          2018,
          2019,
          2020,
          2021
         ],
         "xaxis": "x",
         "y": [
          1.62,
          1.95,
          2.71,
          4.46,
          5.76,
          9.15,
          7.54,
          10.6,
          12.32,
          12.28,
          12.54,
          13.05,
          11.57,
          10.09,
          10.39,
          11.88,
          13.35,
          11.95,
          12.58,
          13.13,
          13.62,
          13.57,
          12.72,
          11.92,
          11.16,
          11.44,
          11.11,
          10.84,
          10.6,
          9.84,
          10.57,
          9.49,
          9.66,
          8.27,
          8.34,
          8.83,
          8.59,
          8.59,
          8.26,
          8.2,
          7.63,
          7.64,
          7.77,
          7.97,
          6.89,
          5.73,
          5.63,
          5.31,
          5.12,
          5.6,
          5.55
         ],
         "yaxis": "y"
        },
        {
         "hovertemplate": "<b>%{text}</b><br>Year: %{x}<br>Abortion rate: %{y}",
         "legendgroup": "AZ",
         "line": {
          "color": "#ab63fa",
          "dash": "solid"
         },
         "marker": {
          "line": {
           "color": "DarkSlateGrey",
           "width": 1
          },
          "size": 8,
          "symbol": "circle"
         },
         "mode": "markers+lines+text",
         "name": "AZ",
         "orientation": "v",
         "showlegend": true,
         "text": [
          "AZ",
          "AZ",
          "AZ",
          "AZ",
          "AZ",
          "AZ",
          "AZ",
          "AZ",
          "AZ",
          "AZ",
          "AZ",
          "AZ",
          "AZ",
          "AZ",
          "AZ",
          "AZ",
          "AZ",
          "AZ",
          "AZ",
          "AZ",
          "AZ",
          "AZ",
          "AZ",
          "AZ",
          "AZ",
          "AZ",
          "AZ",
          "AZ",
          "AZ",
          "AZ",
          "AZ",
          "AZ",
          "AZ",
          "AZ",
          "AZ",
          "AZ",
          "AZ",
          "AZ",
          "AZ",
          "AZ",
          "AZ",
          "AZ",
          "AZ",
          "AZ",
          "AZ",
          "AZ",
          "AZ",
          "AZ",
          "AZ",
          "AZ"
         ],
         "textposition": "middle right",
         "type": "scatter",
         "x": [
          1972,
          1973,
          1974,
          1975,
          1976,
          1977,
          1978,
          1979,
          1980,
          1981,
          1982,
          1983,
          1984,
          1985,
          1986,
          1987,
          1988,
          1989,
          1990,
          1991,
          1992,
          1993,
          1994,
          1995,
          1996,
          1997,
          1998,
          1999,
          2000,
          2001,
          2002,
          2003,
          2004,
          2005,
          2006,
          2007,
          2008,
          2009,
          2010,
          2011,
          2012,
          2013,
          2014,
          2015,
          2016,
          2017,
          2018,
          2019,
          2020,
          2021
         ],
         "xaxis": "x",
         "y": [
          0.64,
          6.06,
          12.66,
          13.4,
          15.19,
          17.59,
          23.42,
          24.03,
          25.05,
          25.33,
          23.52,
          26.76,
          29.61,
          30,
          28.62,
          27.49,
          28.04,
          26.31,
          24.93,
          23.17,
          23.86,
          22.42,
          20.73,
          19.25,
          20.11,
          18.72,
          17.57,
          16.48,
          16.45,
          12.55,
          14.94,
          13.46,
          15.42,
          16.32,
          15.81,
          14.08,
          15.49,
          13.01,
          12.01,
          12.68,
          11.49,
          10.49,
          9.85,
          9.57,
          9.96,
          9.26,
          9.05,
          9.36,
          9.36,
          9.44
         ],
         "yaxis": "y"
        },
        {
         "hovertemplate": "<b>%{text}</b><br>Year: %{x}<br>Abortion rate: %{y}",
         "legendgroup": "CA",
         "line": {
          "color": "#FFA15A",
          "dash": "solid"
         },
         "marker": {
          "line": {
           "color": "DarkSlateGrey",
           "width": 1
          },
          "size": 8,
          "symbol": "circle"
         },
         "mode": "markers+lines+text",
         "name": "CA",
         "orientation": "v",
         "showlegend": true,
         "text": [
          "CA",
          "CA",
          "CA",
          "CA",
          "CA",
          "CA",
          "CA",
          "CA",
          "CA",
          "CA",
          "CA",
          "CA",
          "CA",
          "CA",
          "CA",
          "CA",
          "CA",
          "CA",
          "CA",
          "CA",
          "CA",
          "CA",
          "CA",
          "CA",
          "CA",
          "CA",
          "CA",
          "CA",
          "CA",
          "CA",
          "CA",
          "CA",
          "CA",
          "CA",
          "CA",
          "CA",
          "CA",
          "CA",
          "CA",
          "CA",
          "CA",
          "CA",
          "CA",
          "CA",
          "CA",
          "CA",
          "CA",
          "CA",
          "CA",
          "CA",
          "CA",
          "CA"
         ],
         "textposition": "middle right",
         "type": "scatter",
         "x": [
          1970,
          1971,
          1972,
          1973,
          1974,
          1975,
          1976,
          1977,
          1978,
          1979,
          1980,
          1981,
          1982,
          1983,
          1984,
          1985,
          1986,
          1987,
          1988,
          1989,
          1990,
          1991,
          1992,
          1993,
          1994,
          1995,
          1996,
          1997,
          1998,
          1999,
          2000,
          2001,
          2002,
          2003,
          2004,
          2005,
          2006,
          2007,
          2008,
          2009,
          2010,
          2011,
          2012,
          2013,
          2014,
          2015,
          2016,
          2017,
          2018,
          2019,
          2020,
          2021
         ],
         "xaxis": "x",
         "y": [
          15.15,
          26.48,
          30.74,
          31.1,
          33.41,
          33.81,
          38.12,
          40.05,
          43.42,
          44.66,
          43.67,
          44.66,
          44.06,
          45.63,
          47.22,
          47.02,
          47.37,
          47.85,
          44.99,
          44.49,
          44.26,
          44.36,
          41.91,
          39.04,
          36.26,
          33.42,
          33.05,
          32.46,
          31.87,
          31.36,
          31.13,
          31.67,
          30.98,
          28.85,
          26.77,
          26.77,
          28.52,
          28.6,
          27.36,
          26.16,
          24.28,
          22.99,
          21.62,
          20.59,
          19.66,
          18.5,
          17.51,
          16.5,
          17.61,
          18.76,
          19.27,
          19.95
         ],
         "yaxis": "y"
        },
        {
         "hovertemplate": "<b>%{text}</b><br>Year: %{x}<br>Abortion rate: %{y}",
         "legendgroup": "CO",
         "line": {
          "color": "#19d3f3",
          "dash": "solid"
         },
         "marker": {
          "line": {
           "color": "DarkSlateGrey",
           "width": 1
          },
          "size": 8,
          "symbol": "circle"
         },
         "mode": "markers+lines+text",
         "name": "CO",
         "orientation": "v",
         "showlegend": true,
         "text": [
          "CO",
          "CO",
          "CO",
          "CO",
          "CO",
          "CO",
          "CO",
          "CO",
          "CO",
          "CO",
          "CO",
          "CO",
          "CO",
          "CO",
          "CO",
          "CO",
          "CO",
          "CO",
          "CO",
          "CO",
          "CO",
          "CO",
          "CO",
          "CO",
          "CO",
          "CO",
          "CO",
          "CO",
          "CO",
          "CO",
          "CO",
          "CO",
          "CO",
          "CO",
          "CO",
          "CO",
          "CO",
          "CO",
          "CO",
          "CO",
          "CO",
          "CO",
          "CO",
          "CO",
          "CO",
          "CO",
          "CO",
          "CO",
          "CO",
          "CO",
          "CO",
          "CO"
         ],
         "textposition": "middle right",
         "type": "scatter",
         "x": [
          1970,
          1971,
          1972,
          1973,
          1974,
          1975,
          1976,
          1977,
          1978,
          1979,
          1980,
          1981,
          1982,
          1983,
          1984,
          1985,
          1986,
          1987,
          1988,
          1989,
          1990,
          1991,
          1992,
          1993,
          1994,
          1995,
          1996,
          1997,
          1998,
          1999,
          2000,
          2001,
          2002,
          2003,
          2004,
          2005,
          2006,
          2007,
          2008,
          2009,
          2010,
          2011,
          2012,
          2013,
          2014,
          2015,
          2016,
          2017,
          2018,
          2019,
          2020,
          2021
         ],
         "xaxis": "x",
         "y": [
          5.25,
          8.3,
          9.85,
          13.13,
          18.93,
          22.12,
          23.44,
          28.24,
          28.79,
          31.27,
          31.4,
          31.62,
          32.34,
          31.27,
          30.53,
          29.89,
          26.33,
          22.98,
          23.06,
          24.09,
          25.05,
          25.68,
          24.06,
          21.95,
          19.95,
          18.06,
          20.9,
          19.43,
          18.05,
          16.61,
          15.92,
          15.69,
          15.61,
          15.65,
          15.68,
          16.27,
          15.56,
          16.18,
          15.76,
          15.3,
          14.65,
          14.18,
          13.03,
          12.08,
          12.19,
          11.56,
          11.06,
          10.91,
          10.75,
          10.57,
          11.29,
          12.45
         ],
         "yaxis": "y"
        },
        {
         "hovertemplate": "<b>%{text}</b><br>Year: %{x}<br>Abortion rate: %{y}",
         "legendgroup": "CT",
         "line": {
          "color": "#FF6692",
          "dash": "solid"
         },
         "marker": {
          "line": {
           "color": "DarkSlateGrey",
           "width": 1
          },
          "size": 8,
          "symbol": "circle"
         },
         "mode": "markers+lines+text",
         "name": "CT",
         "orientation": "v",
         "showlegend": true,
         "text": [
          "CT",
          "CT",
          "CT",
          "CT",
          "CT",
          "CT",
          "CT",
          "CT",
          "CT",
          "CT",
          "CT",
          "CT",
          "CT",
          "CT",
          "CT",
          "CT",
          "CT",
          "CT",
          "CT",
          "CT",
          "CT",
          "CT",
          "CT",
          "CT",
          "CT",
          "CT",
          "CT",
          "CT",
          "CT",
          "CT",
          "CT",
          "CT",
          "CT",
          "CT",
          "CT",
          "CT",
          "CT",
          "CT",
          "CT",
          "CT",
          "CT",
          "CT",
          "CT",
          "CT",
          "CT",
          "CT",
          "CT",
          "CT",
          "CT",
          "CT"
         ],
         "textposition": "middle right",
         "type": "scatter",
         "x": [
          1972,
          1973,
          1974,
          1975,
          1976,
          1977,
          1978,
          1979,
          1980,
          1981,
          1982,
          1983,
          1984,
          1985,
          1986,
          1987,
          1988,
          1989,
          1990,
          1991,
          1992,
          1993,
          1994,
          1995,
          1996,
          1997,
          1998,
          1999,
          2000,
          2001,
          2002,
          2003,
          2004,
          2005,
          2006,
          2007,
          2008,
          2009,
          2010,
          2011,
          2012,
          2013,
          2014,
          2015,
          2016,
          2017,
          2018,
          2019,
          2020,
          2021
         ],
         "xaxis": "x",
         "y": [
          4,
          10.39,
          14.09,
          17.04,
          22.99,
          24.11,
          25.33,
          25.82,
          25.51,
          30.75,
          31.13,
          29.6,
          28.11,
          28.21,
          28.24,
          28.39,
          29.98,
          28.81,
          27.63,
          26.58,
          26.13,
          25.17,
          24.08,
          22.92,
          22.44,
          21.72,
          21.16,
          20.57,
          21.09,
          22.57,
          23.84,
          22.87,
          23.55,
          23.64,
          24.49,
          24.79,
          24.36,
          23,
          22.29,
          21.25,
          20.21,
          19.48,
          19.29,
          18.03,
          18.17,
          17.77,
          17.62,
          17.9,
          16.68,
          16.22
         ],
         "yaxis": "y"
        },
        {
         "hovertemplate": "<b>%{text}</b><br>Year: %{x}<br>Abortion rate: %{y}",
         "legendgroup": "DE",
         "line": {
          "color": "#B6E880",
          "dash": "solid"
         },
         "marker": {
          "line": {
           "color": "DarkSlateGrey",
           "width": 1
          },
          "size": 8,
          "symbol": "circle"
         },
         "mode": "markers+lines+text",
         "name": "DE",
         "orientation": "v",
         "showlegend": true,
         "text": [
          "DE",
          "DE",
          "DE",
          "DE",
          "DE",
          "DE",
          "DE",
          "DE",
          "DE",
          "DE",
          "DE",
          "DE",
          "DE",
          "DE",
          "DE",
          "DE",
          "DE",
          "DE",
          "DE",
          "DE",
          "DE",
          "DE",
          "DE",
          "DE",
          "DE",
          "DE",
          "DE",
          "DE",
          "DE",
          "DE",
          "DE",
          "DE",
          "DE",
          "DE",
          "DE",
          "DE",
          "DE",
          "DE",
          "DE",
          "DE",
          "DE",
          "DE",
          "DE",
          "DE",
          "DE",
          "DE",
          "DE",
          "DE",
          "DE",
          "DE",
          "DE",
          "DE"
         ],
         "textposition": "middle right",
         "type": "scatter",
         "x": [
          1970,
          1971,
          1972,
          1973,
          1974,
          1975,
          1976,
          1977,
          1978,
          1979,
          1980,
          1981,
          1982,
          1983,
          1984,
          1985,
          1986,
          1987,
          1988,
          1989,
          1990,
          1991,
          1992,
          1993,
          1994,
          1995,
          1996,
          1997,
          1998,
          1999,
          2000,
          2001,
          2002,
          2003,
          2004,
          2005,
          2006,
          2007,
          2008,
          2009,
          2010,
          2011,
          2012,
          2013,
          2014,
          2015,
          2016,
          2017,
          2018,
          2019,
          2020,
          2021
         ],
         "xaxis": "x",
         "y": [
          4.7,
          7.69,
          10.55,
          15.74,
          16.47,
          17.27,
          18.4,
          21.46,
          24.3,
          25.33,
          25.96,
          27.94,
          26.68,
          29.12,
          31.46,
          30.27,
          33.33,
          36.3,
          36.1,
          35.71,
          35.39,
          34.91,
          34.91,
          34.77,
          34.66,
          34.27,
          26.27,
          27.5,
          28.7,
          29.97,
          31.28,
          29.91,
          27.6,
          25.59,
          28,
          28.87,
          39.35,
          42.11,
          39.28,
          38.53,
          36.66,
          28.48,
          23.02,
          17.83,
          16.79,
          14.56,
          12.55,
          10.65,
          9.72,
          11.33,
          12.54,
          13.03
         ],
         "yaxis": "y"
        },
        {
         "hovertemplate": "<b>%{text}</b><br>Year: %{x}<br>Abortion rate: %{y}",
         "legendgroup": "FL",
         "line": {
          "color": "#FF97FF",
          "dash": "solid"
         },
         "marker": {
          "line": {
           "color": "DarkSlateGrey",
           "width": 1
          },
          "size": 8,
          "symbol": "circle"
         },
         "mode": "markers+lines+text",
         "name": "FL",
         "orientation": "v",
         "showlegend": true,
         "text": [
          "FL",
          "FL",
          "FL",
          "FL",
          "FL",
          "FL",
          "FL",
          "FL",
          "FL",
          "FL",
          "FL",
          "FL",
          "FL",
          "FL",
          "FL",
          "FL",
          "FL",
          "FL",
          "FL",
          "FL",
          "FL",
          "FL",
          "FL",
          "FL",
          "FL",
          "FL",
          "FL",
          "FL",
          "FL",
          "FL",
          "FL",
          "FL",
          "FL",
          "FL",
          "FL",
          "FL",
          "FL",
          "FL",
          "FL",
          "FL",
          "FL",
          "FL",
          "FL",
          "FL",
          "FL",
          "FL",
          "FL",
          "FL",
          "FL",
          "FL"
         ],
         "textposition": "middle right",
         "type": "scatter",
         "x": [
          1972,
          1973,
          1974,
          1975,
          1976,
          1977,
          1978,
          1979,
          1980,
          1981,
          1982,
          1983,
          1984,
          1985,
          1986,
          1987,
          1988,
          1989,
          1990,
          1991,
          1992,
          1993,
          1994,
          1995,
          1996,
          1997,
          1998,
          1999,
          2000,
          2001,
          2002,
          2003,
          2004,
          2005,
          2006,
          2007,
          2008,
          2009,
          2010,
          2011,
          2012,
          2013,
          2014,
          2015,
          2016,
          2017,
          2018,
          2019,
          2020,
          2021
         ],
         "xaxis": "x",
         "y": [
          2.28,
          14.48,
          18.15,
          26.87,
          28.72,
          31.24,
          33.44,
          35.38,
          35.33,
          35.33,
          34.06,
          32.79,
          31.52,
          30.9,
          30.75,
          30.62,
          30.9,
          30.49,
          30.21,
          29.81,
          29.71,
          29.9,
          29.92,
          29.94,
          31.87,
          31.52,
          31.24,
          31.09,
          31.87,
          29.57,
          29.18,
          28.76,
          28.06,
          26.31,
          27.27,
          26.69,
          26.39,
          24.84,
          24.17,
          23.79,
          22.82,
          21.18,
          20.67,
          19.9,
          18.57,
          18.58,
          18.5,
          18.59,
          19.78,
          20.94
         ],
         "yaxis": "y"
        }
       ],
       "layout": {
        "autotypenumbers": "convert types",
        "hoverlabel": {
         "bgcolor": "white",
         "font": {
          "family": "Rockwell",
          "size": 16
         }
        },
        "legend": {
         "title": {
          "text": "State"
         },
         "tracegroupgap": 0
        },
        "template": {
         "data": {
          "bar": [
           {
            "error_x": {
             "color": "#2a3f5f"
            },
            "error_y": {
             "color": "#2a3f5f"
            },
            "marker": {
             "line": {
              "color": "#E5ECF6",
              "width": 0.5
             },
             "pattern": {
              "fillmode": "overlay",
              "size": 10,
              "solidity": 0.2
             }
            },
            "type": "bar"
           }
          ],
          "barpolar": [
           {
            "marker": {
             "line": {
              "color": "#E5ECF6",
              "width": 0.5
             },
             "pattern": {
              "fillmode": "overlay",
              "size": 10,
              "solidity": 0.2
             }
            },
            "type": "barpolar"
           }
          ],
          "carpet": [
           {
            "aaxis": {
             "endlinecolor": "#2a3f5f",
             "gridcolor": "white",
             "linecolor": "white",
             "minorgridcolor": "white",
             "startlinecolor": "#2a3f5f"
            },
            "baxis": {
             "endlinecolor": "#2a3f5f",
             "gridcolor": "white",
             "linecolor": "white",
             "minorgridcolor": "white",
             "startlinecolor": "#2a3f5f"
            },
            "type": "carpet"
           }
          ],
          "choropleth": [
           {
            "colorbar": {
             "outlinewidth": 0,
             "ticks": ""
            },
            "type": "choropleth"
           }
          ],
          "contour": [
           {
            "colorbar": {
             "outlinewidth": 0,
             "ticks": ""
            },
            "colorscale": [
             [
              0,
              "#0d0887"
             ],
             [
              0.1111111111111111,
              "#46039f"
             ],
             [
              0.2222222222222222,
              "#7201a8"
             ],
             [
              0.3333333333333333,
              "#9c179e"
             ],
             [
              0.4444444444444444,
              "#bd3786"
             ],
             [
              0.5555555555555556,
              "#d8576b"
             ],
             [
              0.6666666666666666,
              "#ed7953"
             ],
             [
              0.7777777777777778,
              "#fb9f3a"
             ],
             [
              0.8888888888888888,
              "#fdca26"
             ],
             [
              1,
              "#f0f921"
             ]
            ],
            "type": "contour"
           }
          ],
          "contourcarpet": [
           {
            "colorbar": {
             "outlinewidth": 0,
             "ticks": ""
            },
            "type": "contourcarpet"
           }
          ],
          "heatmap": [
           {
            "colorbar": {
             "outlinewidth": 0,
             "ticks": ""
            },
            "colorscale": [
             [
              0,
              "#0d0887"
             ],
             [
              0.1111111111111111,
              "#46039f"
             ],
             [
              0.2222222222222222,
              "#7201a8"
             ],
             [
              0.3333333333333333,
              "#9c179e"
             ],
             [
              0.4444444444444444,
              "#bd3786"
             ],
             [
              0.5555555555555556,
              "#d8576b"
             ],
             [
              0.6666666666666666,
              "#ed7953"
             ],
             [
              0.7777777777777778,
              "#fb9f3a"
             ],
             [
              0.8888888888888888,
              "#fdca26"
             ],
             [
              1,
              "#f0f921"
             ]
            ],
            "type": "heatmap"
           }
          ],
          "heatmapgl": [
           {
            "colorbar": {
             "outlinewidth": 0,
             "ticks": ""
            },
            "colorscale": [
             [
              0,
              "#0d0887"
             ],
             [
              0.1111111111111111,
              "#46039f"
             ],
             [
              0.2222222222222222,
              "#7201a8"
             ],
             [
              0.3333333333333333,
              "#9c179e"
             ],
             [
              0.4444444444444444,
              "#bd3786"
             ],
             [
              0.5555555555555556,
              "#d8576b"
             ],
             [
              0.6666666666666666,
              "#ed7953"
             ],
             [
              0.7777777777777778,
              "#fb9f3a"
             ],
             [
              0.8888888888888888,
              "#fdca26"
             ],
             [
              1,
              "#f0f921"
             ]
            ],
            "type": "heatmapgl"
           }
          ],
          "histogram": [
           {
            "marker": {
             "pattern": {
              "fillmode": "overlay",
              "size": 10,
              "solidity": 0.2
             }
            },
            "type": "histogram"
           }
          ],
          "histogram2d": [
           {
            "colorbar": {
             "outlinewidth": 0,
             "ticks": ""
            },
            "colorscale": [
             [
              0,
              "#0d0887"
             ],
             [
              0.1111111111111111,
              "#46039f"
             ],
             [
              0.2222222222222222,
              "#7201a8"
             ],
             [
              0.3333333333333333,
              "#9c179e"
             ],
             [
              0.4444444444444444,
              "#bd3786"
             ],
             [
              0.5555555555555556,
              "#d8576b"
             ],
             [
              0.6666666666666666,
              "#ed7953"
             ],
             [
              0.7777777777777778,
              "#fb9f3a"
             ],
             [
              0.8888888888888888,
              "#fdca26"
             ],
             [
              1,
              "#f0f921"
             ]
            ],
            "type": "histogram2d"
           }
          ],
          "histogram2dcontour": [
           {
            "colorbar": {
             "outlinewidth": 0,
             "ticks": ""
            },
            "colorscale": [
             [
              0,
              "#0d0887"
             ],
             [
              0.1111111111111111,
              "#46039f"
             ],
             [
              0.2222222222222222,
              "#7201a8"
             ],
             [
              0.3333333333333333,
              "#9c179e"
             ],
             [
              0.4444444444444444,
              "#bd3786"
             ],
             [
              0.5555555555555556,
              "#d8576b"
             ],
             [
              0.6666666666666666,
              "#ed7953"
             ],
             [
              0.7777777777777778,
              "#fb9f3a"
             ],
             [
              0.8888888888888888,
              "#fdca26"
             ],
             [
              1,
              "#f0f921"
             ]
            ],
            "type": "histogram2dcontour"
           }
          ],
          "mesh3d": [
           {
            "colorbar": {
             "outlinewidth": 0,
             "ticks": ""
            },
            "type": "mesh3d"
           }
          ],
          "parcoords": [
           {
            "line": {
             "colorbar": {
              "outlinewidth": 0,
              "ticks": ""
             }
            },
            "type": "parcoords"
           }
          ],
          "pie": [
           {
            "automargin": true,
            "type": "pie"
           }
          ],
          "scatter": [
           {
            "fillpattern": {
             "fillmode": "overlay",
             "size": 10,
             "solidity": 0.2
            },
            "type": "scatter"
           }
          ],
          "scatter3d": [
           {
            "line": {
             "colorbar": {
              "outlinewidth": 0,
              "ticks": ""
             }
            },
            "marker": {
             "colorbar": {
              "outlinewidth": 0,
              "ticks": ""
             }
            },
            "type": "scatter3d"
           }
          ],
          "scattercarpet": [
           {
            "marker": {
             "colorbar": {
              "outlinewidth": 0,
              "ticks": ""
             }
            },
            "type": "scattercarpet"
           }
          ],
          "scattergeo": [
           {
            "marker": {
             "colorbar": {
              "outlinewidth": 0,
              "ticks": ""
             }
            },
            "type": "scattergeo"
           }
          ],
          "scattergl": [
           {
            "marker": {
             "colorbar": {
              "outlinewidth": 0,
              "ticks": ""
             }
            },
            "type": "scattergl"
           }
          ],
          "scattermapbox": [
           {
            "marker": {
             "colorbar": {
              "outlinewidth": 0,
              "ticks": ""
             }
            },
            "type": "scattermapbox"
           }
          ],
          "scatterpolar": [
           {
            "marker": {
             "colorbar": {
              "outlinewidth": 0,
              "ticks": ""
             }
            },
            "type": "scatterpolar"
           }
          ],
          "scatterpolargl": [
           {
            "marker": {
             "colorbar": {
              "outlinewidth": 0,
              "ticks": ""
             }
            },
            "type": "scatterpolargl"
           }
          ],
          "scatterternary": [
           {
            "marker": {
             "colorbar": {
              "outlinewidth": 0,
              "ticks": ""
             }
            },
            "type": "scatterternary"
           }
          ],
          "surface": [
           {
            "colorbar": {
             "outlinewidth": 0,
             "ticks": ""
            },
            "colorscale": [
             [
              0,
              "#0d0887"
             ],
             [
              0.1111111111111111,
              "#46039f"
             ],
             [
              0.2222222222222222,
              "#7201a8"
             ],
             [
              0.3333333333333333,
              "#9c179e"
             ],
             [
              0.4444444444444444,
              "#bd3786"
             ],
             [
              0.5555555555555556,
              "#d8576b"
             ],
             [
              0.6666666666666666,
              "#ed7953"
             ],
             [
              0.7777777777777778,
              "#fb9f3a"
             ],
             [
              0.8888888888888888,
              "#fdca26"
             ],
             [
              1,
              "#f0f921"
             ]
            ],
            "type": "surface"
           }
          ],
          "table": [
           {
            "cells": {
             "fill": {
              "color": "#EBF0F8"
             },
             "line": {
              "color": "white"
             }
            },
            "header": {
             "fill": {
              "color": "#C8D4E3"
             },
             "line": {
              "color": "white"
             }
            },
            "type": "table"
           }
          ]
         },
         "layout": {
          "annotationdefaults": {
           "arrowcolor": "#2a3f5f",
           "arrowhead": 0,
           "arrowwidth": 1
          },
          "autotypenumbers": "strict",
          "coloraxis": {
           "colorbar": {
            "outlinewidth": 0,
            "ticks": ""
           }
          },
          "colorscale": {
           "diverging": [
            [
             0,
             "#8e0152"
            ],
            [
             0.1,
             "#c51b7d"
            ],
            [
             0.2,
             "#de77ae"
            ],
            [
             0.3,
             "#f1b6da"
            ],
            [
             0.4,
             "#fde0ef"
            ],
            [
             0.5,
             "#f7f7f7"
            ],
            [
             0.6,
             "#e6f5d0"
            ],
            [
             0.7,
             "#b8e186"
            ],
            [
             0.8,
             "#7fbc41"
            ],
            [
             0.9,
             "#4d9221"
            ],
            [
             1,
             "#276419"
            ]
           ],
           "sequential": [
            [
             0,
             "#0d0887"
            ],
            [
             0.1111111111111111,
             "#46039f"
            ],
            [
             0.2222222222222222,
             "#7201a8"
            ],
            [
             0.3333333333333333,
             "#9c179e"
            ],
            [
             0.4444444444444444,
             "#bd3786"
            ],
            [
             0.5555555555555556,
             "#d8576b"
            ],
            [
             0.6666666666666666,
             "#ed7953"
            ],
            [
             0.7777777777777778,
             "#fb9f3a"
            ],
            [
             0.8888888888888888,
             "#fdca26"
            ],
            [
             1,
             "#f0f921"
            ]
           ],
           "sequentialminus": [
            [
             0,
             "#0d0887"
            ],
            [
             0.1111111111111111,
             "#46039f"
            ],
            [
             0.2222222222222222,
             "#7201a8"
            ],
            [
             0.3333333333333333,
             "#9c179e"
            ],
            [
             0.4444444444444444,
             "#bd3786"
            ],
            [
             0.5555555555555556,
             "#d8576b"
            ],
            [
             0.6666666666666666,
             "#ed7953"
            ],
            [
             0.7777777777777778,
             "#fb9f3a"
            ],
            [
             0.8888888888888888,
             "#fdca26"
            ],
            [
             1,
             "#f0f921"
            ]
           ]
          },
          "colorway": [
           "#636efa",
           "#EF553B",
           "#00cc96",
           "#ab63fa",
           "#FFA15A",
           "#19d3f3",
           "#FF6692",
           "#B6E880",
           "#FF97FF",
           "#FECB52"
          ],
          "font": {
           "color": "#2a3f5f"
          },
          "geo": {
           "bgcolor": "white",
           "lakecolor": "white",
           "landcolor": "#E5ECF6",
           "showlakes": true,
           "showland": true,
           "subunitcolor": "white"
          },
          "hoverlabel": {
           "align": "left"
          },
          "hovermode": "closest",
          "mapbox": {
           "style": "light"
          },
          "paper_bgcolor": "white",
          "plot_bgcolor": "#E5ECF6",
          "polar": {
           "angularaxis": {
            "gridcolor": "white",
            "linecolor": "white",
            "ticks": ""
           },
           "bgcolor": "#E5ECF6",
           "radialaxis": {
            "gridcolor": "white",
            "linecolor": "white",
            "ticks": ""
           }
          },
          "scene": {
           "xaxis": {
            "backgroundcolor": "#E5ECF6",
            "gridcolor": "white",
            "gridwidth": 2,
            "linecolor": "white",
            "showbackground": true,
            "ticks": "",
            "zerolinecolor": "white"
           },
           "yaxis": {
            "backgroundcolor": "#E5ECF6",
            "gridcolor": "white",
            "gridwidth": 2,
            "linecolor": "white",
            "showbackground": true,
            "ticks": "",
            "zerolinecolor": "white"
           },
           "zaxis": {
            "backgroundcolor": "#E5ECF6",
            "gridcolor": "white",
            "gridwidth": 2,
            "linecolor": "white",
            "showbackground": true,
            "ticks": "",
            "zerolinecolor": "white"
           }
          },
          "shapedefaults": {
           "line": {
            "color": "#2a3f5f"
           }
          },
          "ternary": {
           "aaxis": {
            "gridcolor": "white",
            "linecolor": "white",
            "ticks": ""
           },
           "baxis": {
            "gridcolor": "white",
            "linecolor": "white",
            "ticks": ""
           },
           "bgcolor": "#E5ECF6",
           "caxis": {
            "gridcolor": "white",
            "linecolor": "white",
            "ticks": ""
           }
          },
          "title": {
           "x": 0.05
          },
          "xaxis": {
           "automargin": true,
           "gridcolor": "white",
           "linecolor": "white",
           "ticks": "",
           "title": {
            "standoff": 15
           },
           "zerolinecolor": "white",
           "zerolinewidth": 2
          },
          "yaxis": {
           "automargin": true,
           "gridcolor": "white",
           "linecolor": "white",
           "ticks": "",
           "title": {
            "standoff": 15
           },
           "zerolinecolor": "white",
           "zerolinewidth": 2
          }
         }
        },
        "title": {
         "text": "Abortion Rate by State (Guttmacher)"
        },
        "xaxis": {
         "anchor": "y",
         "domain": [
          0,
          1
         ],
         "title": {
          "text": "Year"
         }
        },
        "yaxis": {
         "anchor": "x",
         "domain": [
          0,
          1
         ],
         "rangemode": "tozero",
         "title": {
          "text": "Abortion rate (Guttmacher)"
         }
        }
       }
      }
     },
     "metadata": {},
     "output_type": "display_data"
    }
   ],
   "source": [
    "# add\n",
    "# https://plotly.com/python/range-slider/\n",
    "# https://stackoverflow.com/questions/66190574/plotly-how-to-annotate-end-of-multiple-lines-with-text-and-marker-colors-that-m\n",
    "# https://plotly.com/python/discrete-color/\n",
    "# https://plotly.com/python/marker-style/\n",
    "# https://stackoverflow.com/questions/69286545/display-only-single-line-on-hover-hide-all-other-lines\n",
    "# https://dylancastillo.co/4-ways-to-improve-your-plotly-graphs/\n",
    "# https://stackoverflow.com/questions/69278251/plotly-including-additional-data-in-hovertemplate\n",
    "# https://plotly.com/python/hover-text-and-formatting/#:~:text=trace%201-,Advanced%20Hover%20Template,-The%20following%20example\n",
    "\n",
    "# os.chdir(\"./statistics/all states\")\n",
    "folder = \"./statistics/all states\"\n",
    "file = \"All States Abortion Rate.csv\"\n",
    "df = pd.read_csv(file)\n",
    "df.set_index(\"State\")\n",
    "\n",
    "fig = px.line(df, title=\"Abortion Rate by State (Guttmacher)\", x=\"Year\",\n",
    "              y=\"Abortion rate (Guttmacher)\", color=\"State\", text=df[\"State\"])\n",
    "\n",
    "fig.update_yaxes(rangemode=\"tozero\")\n",
    "fig.update_traces(mode=\"markers+lines+text\", textposition=\"middle right\",\n",
    "                  marker=dict(size=8, line=dict(\n",
    "                      width=1,\n",
    "                      color=\"DarkSlateGrey\")),\n",
    "                  hovertemplate=\"<b>%{text}</b><br>Year: %{x}<br>Abortion rate: %{y}\"\n",
    "                  )\n",
    "fig.update_layout(autotypenumbers=\"convert types\", legend_title=\"State\",\n",
    "                  hoverlabel=dict(\n",
    "                      bgcolor=\"white\",\n",
    "                      font_size=16,\n",
    "                      font_family=\"Rockwell\"\n",
    "                  )\n",
    "                  )\n",
    "fig.show()"
   ]
  }
 ],
 "metadata": {
  "kernelspec": {
   "display_name": "Python 3.10.5 ('venv': venv)",
   "language": "python",
   "name": "python3"
  },
  "language_info": {
   "codemirror_mode": {
    "name": "ipython",
    "version": 3
   },
   "file_extension": ".py",
   "mimetype": "text/x-python",
   "name": "python",
   "nbconvert_exporter": "python",
   "pygments_lexer": "ipython3",
   "version": "3.10.5"
  },
  "orig_nbformat": 4,
  "vscode": {
   "interpreter": {
    "hash": "49bdf4c26fe566e4e41d1d4b374efc14a75ceddd793dd2ff2a2476ff4a5cd0c5"
   }
  }
 },
 "nbformat": 4,
 "nbformat_minor": 2
}
