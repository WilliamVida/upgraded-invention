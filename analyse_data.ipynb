{
 "cells": [
  {
   "cell_type": "code",
   "execution_count": null,
   "metadata": {},
   "outputs": [],
   "source": [
    "import pandas as pd\n",
    "import plotly.express as px\n",
    "import numpy as np\n",
    "import os"
   ]
  },
  {
   "cell_type": "code",
   "execution_count": null,
   "metadata": {},
   "outputs": [],
   "source": [
    "# os.chdir(\"./statistics/all states\")\n",
    "folder = \"./statistics/all states/\"\n",
    "file = \"All States Abortion Rate.csv\"\n",
    "df = pd.read_csv(folder+file)\n",
    "df.set_index(\"State\")\n",
    "\n",
    "fig = px.line(df, title=\"Abortion Rate by State (Guttmacher)\", x=\"Year\",\n",
    "              y=\"Abortion rate (Guttmacher)\", color=\"State\", text=df[\"State\"])\n",
    "\n",
    "fig.update_yaxes(rangemode=\"tozero\")\n",
    "fig.update_traces(mode=\"markers+lines+text\", textposition=\"middle right\",\n",
    "                  marker=dict(size=8, line=dict(\n",
    "                      width=1,\n",
    "                      color=\"DarkSlateGrey\")),\n",
    "                hovertemplate=\"<b>%{text}</b><br>Abortion Rate: %{y}<br>Year: %{x}<br><extra></extra>\",   \n",
    "                )\n",
    "fig.update_layout(autotypenumbers=\"convert types\", legend_title=\"State\",\n",
    "                  hoverlabel=dict(\n",
    "                      bgcolor=\"white\",\n",
    "                      font_size=16,\n",
    "                      font_family=\"Rockwell\"\n",
    "                  )\n",
    "                  )\n",
    "fig.show()"
   ]
  },
  {
   "cell_type": "code",
   "execution_count": null,
   "metadata": {},
   "outputs": [],
   "source": [
    "print(df.loc[df['Year'] == 1980].count())\n",
    "# fig = px.scatter(df,  x=\"State\",y=\"Abortion rate (Guttmacher)\")\n",
    "# fig.show()\n",
    "# df"
   ]
  }
 ],
 "metadata": {
  "kernelspec": {
   "display_name": "Python 3.10.5 ('venv': venv)",
   "language": "python",
   "name": "python3"
  },
  "language_info": {
   "codemirror_mode": {
    "name": "ipython",
    "version": 3
   },
   "file_extension": ".py",
   "mimetype": "text/x-python",
   "name": "python",
   "nbconvert_exporter": "python",
   "pygments_lexer": "ipython3",
   "version": "3.10.5"
  },
  "orig_nbformat": 4,
  "vscode": {
   "interpreter": {
    "hash": "49bdf4c26fe566e4e41d1d4b374efc14a75ceddd793dd2ff2a2476ff4a5cd0c5"
   }
  }
 },
 "nbformat": 4,
 "nbformat_minor": 2
}
